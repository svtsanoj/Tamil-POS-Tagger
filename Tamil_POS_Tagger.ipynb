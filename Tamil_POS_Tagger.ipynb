{
 "cells": [
  {
   "cell_type": "code",
   "execution_count": 17,
   "metadata": {
    "colab": {
     "base_uri": "https://localhost:8080/",
     "height": 326
    },
    "colab_type": "code",
    "id": "4WwZYkNr1bPN",
    "outputId": "fc755c50-ed5e-44b2-9dda-875a5fe1bbaa"
   },
   "outputs": [
    {
     "name": "stdout",
     "output_type": "stream",
     "text": [
      "[(['சென்னை', 'அருகே', 'ஸ்ரீ', 'பெரும்புதூரில்', 'கிரீன்', 'பீல்டு', '(', 'நவீன', ')', 'விமான', 'நிலையத்துக்குக்கான', 'நிலையத்துக்குக்க்', 'ஆன', 'நிலம்', 'யாருக்கும்', 'பாதிப்பு', 'இல்லாத', 'வகையில்', 'எடுக்கப்', 'படும்', 'என்று', 'முதல்வர்', 'கருணாநிதி', 'உறுதியளித்துள்ளார்', 'உறுதியளித்த்', 'உள்ளார்', '.'], ['PROPN', 'ADP', 'PROPN', 'PROPN', 'PROPN', 'PROPN', 'PUNCT', 'ADJ', 'PUNCT', 'PROPN', '_', 'NOUN', 'PART', 'NOUN', 'PRON', 'NOUN', 'ADP', 'NOUN', 'VERB', 'AUX', 'PART', 'NOUN', 'PROPN', '_', 'VERB', 'AUX', 'PUNCT']), (['இது', 'தொடர்பாக', ',', 'அவர்', 'புதன்கிழமை', 'வெளியிட்ட', 'அறிக்கை', ':', '.'], ['PRON', 'ADV', 'PUNCT', 'PRON', 'NOUN', 'ADJ', 'NOUN', 'PUNCT', 'PUNCT']), (['நாடு', 'முழுவதும்', 'விமானப்', 'போக்குவரத்தில்', 'ஏற்பட்டு', 'வரும்', 'வளர்ச்சியைக்', 'கருத்தில்', 'கொண்டு', ',', 'முக்கிய', 'நகரங்களில்', 'உள்ள', 'விமான', 'நிலையங்களை', 'விரிவுபடுத்தவும்', 'விரிவுபடுத்தவ்', 'உம்', ',', 'புதிதாக', 'சர்வதேச', 'விமான', 'நிலையங்களை', 'அமைக்கவும்', 'அமைக்கவ்', 'உம்', 'மத்திய', 'அரசு', 'முடிவு', 'செய்தது', '.'], ['NOUN', 'DET', 'PROPN', 'NOUN', 'VERB', 'ADJ', 'NOUN', 'NOUN', 'VERB', 'PUNCT', 'ADJ', 'NOUN', 'ADP', 'PROPN', 'NOUN', '_', 'VERB', 'PART', 'PUNCT', 'ADV', 'ADJ', 'PROPN', 'NOUN', '_', 'VERB', 'PART', 'ADJ', 'NOUN', 'NOUN', 'AUX', 'PUNCT']), (['அதன்படி', ',', 'புதுதில்லி', ',', 'மும்பை', ',', 'கொல்கத்தா', ',', 'சென்னை', 'ஆகிய', 'விமான', 'நிலையங்களை', 'மேம்படுத்த', 'புதிய', 'திட்டங்கள்', 'உருவாக்கப்', 'பட்டு', 'நிறைவேற்றப்', 'படுகின்றன', '.'], ['ADV', 'PUNCT', 'PROPN', 'PUNCT', 'PROPN', 'PUNCT', 'PROPN', 'PUNCT', 'PROPN', 'ADJ', 'PROPN', 'NOUN', 'VERB', 'ADJ', 'NOUN', 'VERB', 'AUX', 'VERB', 'AUX', 'PUNCT']), (['கர்நாடகத்திலும்', 'கர்நாடகத்தில்', 'உம்', ',', 'ஆந்திரத்திலும்', 'ஆந்திரத்தில்', 'உம்', 'கிரீன்', 'பீல்டு', 'விமான', 'நிலையங்களை', 'அமைத்து', 'தமிழகத்தை', 'முந்திக்', 'கொண்டு', 'விட்டனர்', '.'], ['_', 'PROPN', 'PART', 'PUNCT', '_', 'NOUN', 'PART', 'PROPN', 'PROPN', 'PROPN', 'NOUN', 'VERB', 'PROPN', 'VERB', 'AUX', 'AUX', 'PUNCT'])]\n"
     ]
    }
   ],
   "source": [
    "from io import open\n",
    "from conllu import parse_incr\n",
    "\n",
    "data_file = open(\"./ta_ttb-ud-train.conllu\", \"r\", encoding=\"utf-8\")\n",
    "ud_files = []\n",
    "for tokenlist in parse_incr(data_file):\n",
    "    ud_files.append(tokenlist)\n",
    "\n",
    "ud_treebank = []\n",
    "for sentence in ud_files:\n",
    "  tokens = []\n",
    "  tags = []\n",
    "  for token in sentence:\n",
    "    tokens.append(token['form'])\n",
    "    tags.append(token['upostag'])\n",
    "  ud_treebank.append((tokens, tags))\n",
    "print(ud_treebank[:5])"
   ]
  },
  {
   "cell_type": "code",
   "execution_count": 18,
   "metadata": {
    "colab": {},
    "colab_type": "code",
    "id": "-IyIaTSwoo-V"
   },
   "outputs": [],
   "source": [
    "#Regex module for checking alphanumeric values.\n",
    "import re\n",
    "def extract_features(sentence, index):\n",
    "  return {\n",
    "      'word':sentence[index],\n",
    "      'is_first':index==0,\n",
    "      'is_last':index ==len(sentence)-1,\n",
    "      'is_alphanumeric': int(bool((re.match('^(?=.*[0-9]$)(?=.*[a-zA-Z])',sentence[index])))),\n",
    "      'prefix-1':sentence[index][0],\n",
    "      'prefix-2':sentence[index][:2],\n",
    "      'prefix-3':sentence[index][:3],\n",
    "      'prefix-4':sentence[index][:4],\n",
    "      'suffix-1':sentence[index][-1],\n",
    "      'suffix-2':sentence[index][-2:],\n",
    "      'suffix-3':sentence[index][-3:],\n",
    "      'suffix-4':sentence[index][-4:],\n",
    "      'prev_word':'' if index == 0 else sentence[index-1],\n",
    "      'next_word':'' if index < len(sentence) else sentence[index+1],\n",
    "      'has_hyphen': '-' in sentence[index],\n",
    "      'is_numeric': sentence[index].isdigit(),\n",
    "  }"
   ]
  },
  {
   "cell_type": "code",
   "execution_count": 19,
   "metadata": {
    "colab": {},
    "colab_type": "code",
    "id": "1hiniE_wzPOC"
   },
   "outputs": [],
   "source": [
    "\n",
    "def transform_to_dataset(tagged_sentences):\n",
    "  X, y = [], []\n",
    "  for sentence, tags in tagged_sentences:\n",
    "    sent_word_features, sent_tags = [],[]\n",
    "    for index in range(len(sentence)):\n",
    "        sent_word_features.append(extract_features(sentence, index)),\n",
    "        sent_tags.append(tags[index])\n",
    "    X.append(sent_word_features)\n",
    "    y.append(sent_tags)\n",
    "  return X, y\n",
    "\n",
    "#UD Treebank.\n",
    "ud_train_size = int(0.8*len(ud_treebank))\n",
    "ud_training = ud_treebank[:ud_train_size]\n",
    "ud_testing = ud_treebank[ud_train_size:]\n",
    "X_ud_train, y_ud_train = transform_to_dataset(ud_training)\n",
    "X_ud_test, y_ud_test = transform_to_dataset(ud_testing)\n"
   ]
  },
  {
   "cell_type": "code",
   "execution_count": 48,
   "metadata": {
    "colab": {
     "base_uri": "https://localhost:8080/",
     "height": 190
    },
    "colab_type": "code",
    "id": "OHTkotyWpd28",
    "outputId": "8c2c8bde-33f7-4299-f85e-6a3c6edd48f3"
   },
   "outputs": [
    {
     "name": "stdout",
     "output_type": "stream",
     "text": [
      "Started training on UD corpus!\n",
      "Finished training on UD corpus!\n"
     ]
    }
   ],
   "source": [
    "import warnings\n",
    "warnings.filterwarnings('ignore')\n",
    "\n",
    "from sklearn_crfsuite import CRF\n",
    "\n",
    "ud_crf = CRF(\n",
    "    algorithm='lbfgs',\n",
    "    c1=0.01,\n",
    "    c2=0.1,\n",
    "    max_iterations=50,\n",
    "    all_possible_transitions=True\n",
    ")\n",
    "print(\"Started training on UD corpus!\")\n",
    "ud_crf.fit(X_ud_train, y_ud_train)\n",
    "print(\"Finished training on UD corpus!\")"
   ]
  },
  {
   "cell_type": "code",
   "execution_count": 49,
   "metadata": {
    "colab": {
     "base_uri": "https://localhost:8080/",
     "height": 1000
    },
    "colab_type": "code",
    "id": "uTlJwNkF_0zs",
    "outputId": "4073c2df-6679-45db-83a5-65e135ed55dd"
   },
   "outputs": [
    {
     "name": "stdout",
     "output_type": "stream",
     "text": [
      "## UD ##\n",
      "F1 score on Test Data \n",
      "0.8491236392644625\n",
      "F1 score on Training Data \n",
      "0.995707825887987\n",
      "Class wise score:\n",
      "              precision    recall  f1-score   support\n",
      "\n",
      "       PROPN      0.877     0.757     0.813       169\n",
      "         ADP      0.636     0.724     0.677        29\n",
      "       PUNCT      1.000     1.000     1.000       117\n",
      "         ADJ      0.876     0.821     0.848        95\n",
      "           _      0.747     0.747     0.747        83\n",
      "        NOUN      0.825     0.942     0.879       360\n",
      "        PART      0.889     0.889     0.889        63\n",
      "        PRON      0.952     0.606     0.741        33\n",
      "        VERB      0.859     0.806     0.832       144\n",
      "         AUX      0.838     0.870     0.854        77\n",
      "         ADV      0.708     0.694     0.701        49\n",
      "         DET      0.929     0.812     0.867        16\n",
      "       CCONJ      1.000     1.000     1.000         4\n",
      "         NUM      1.000     0.792     0.884        24\n",
      "\n",
      "    accuracy                          0.850      1263\n",
      "   macro avg      0.867     0.819     0.838      1263\n",
      "weighted avg      0.854     0.850     0.849      1263\n",
      "\n"
     ]
    }
   ],
   "source": [
    "#f1 score.\n",
    "from sklearn_crfsuite import metrics\n",
    "from sklearn_crfsuite import scorers\n",
    "\n",
    "print(\"## UD ##\")\n",
    "\n",
    "y_ud_pred=ud_crf.predict(X_ud_test)\n",
    "print(\"F1 score on Test Data \")\n",
    "print(metrics.flat_f1_score(y_ud_test, y_ud_pred,average='weighted',labels=ud_crf.classes_))\n",
    "y_ud_pred_train=ud_crf.predict(X_ud_train)\n",
    "print(\"F1 score on Training Data \")\n",
    "print(metrics.flat_f1_score(y_ud_train, y_ud_pred_train,average='weighted',labels=ud_crf.classes_))\n",
    "\n",
    "\n",
    "print(\"Class wise score:\")\n",
    "print(metrics.flat_classification_report(\n",
    "    y_ud_test, y_ud_pred, labels=ud_crf.classes_, digits=3\n",
    "))\n"
   ]
  },
  {
   "cell_type": "code",
   "execution_count": 22,
   "metadata": {
    "colab": {
     "base_uri": "https://localhost:8080/",
     "height": 51
    },
    "colab_type": "code",
    "id": "C4rcQq-ubbuT",
    "outputId": "eb7ac322-ec2a-431b-d5c8-f8a8cd10e37e"
   },
   "outputs": [
    {
     "name": "stdout",
     "output_type": "stream",
     "text": [
      "[('பழுவேட்டரையர்!', 'PROPN'), ('பழுவேட்டரையர்!', 'PROPN'), ('–', 'PROPN'), ('எங்கே,', 'PROPN'), ('யாரிடம்', 'NOUN'), ('பேசினாலும்', '_'), ('பழுவேட்டரையர்களைப்', 'NOUN'), ('பற்றியே', 'ADP'), ('பேச்சு!', 'VERB')]\n"
     ]
    }
   ],
   "source": [
    "sent = \"பழுவேட்டரையர்! பழுவேட்டரையர்! – எங்கே, யாரிடம் பேசினாலும் பழுவேட்டரையர்களைப் பற்றியே பேச்சு!\"\n",
    "features = [extract_features(sent.split(), idx) for idx in range(len(sent.split()))]\n",
    "\n",
    "ud_results = ud_crf.predict_single(features)\n",
    "\n",
    "ud_tups = [(sent.split()[idx], ud_results[idx]) for idx in range(len(sent.split()))]\n",
    "\n",
    "print(ud_tups)"
   ]
  },
  {
   "cell_type": "code",
   "execution_count": 23,
   "metadata": {
    "colab": {},
    "colab_type": "code",
    "id": "ul2KlQu4c5-N"
   },
   "outputs": [],
   "source": [
    "import pickle\n",
    "\n",
    "\n",
    "penn_filename = 'penn_treebank_crf_postagger.sav'\n",
    "pickle.dump(penn_crf, open(penn_filename, 'wb'))\n",
    "\n",
    "ud_filename = 'ud_crf_postagger.sav'\n",
    "pickle.dump(ud_crf, open(ud_filename,'wb'))"
   ]
  }
 ],
 "metadata": {
  "accelerator": "GPU",
  "colab": {
   "machine_shape": "hm",
   "name": "NLP Series POS Tagging.ipynb",
   "provenance": [],
   "toc_visible": true
  },
  "kernelspec": {
   "display_name": "Python 3",
   "language": "python",
   "name": "python3"
  },
  "language_info": {
   "codemirror_mode": {
    "name": "ipython",
    "version": 3
   },
   "file_extension": ".py",
   "mimetype": "text/x-python",
   "name": "python",
   "nbconvert_exporter": "python",
   "pygments_lexer": "ipython3",
   "version": "3.7.4"
  }
 },
 "nbformat": 4,
 "nbformat_minor": 1
}
